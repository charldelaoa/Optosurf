{
 "cells": [
  {
   "cell_type": "code",
   "execution_count": 26,
   "metadata": {},
   "outputs": [],
   "source": [
    "def plot_format(plot, xlabel, ylabel, location, size, titlesize, labelsize):\n",
    "    # x axis format\n",
    "    plot.xaxis.axis_label = xlabel\n",
    "    plot.xaxis.axis_label_text_font_style = 'bold'\n",
    "    plot.xaxis.major_label_text_font_style = \"bold\"\n",
    "    plot.xaxis.axis_label_text_font_size = size\n",
    "    plot.xaxis.major_label_text_font_size = size\n",
    "\n",
    "    # y axis format\n",
    "    plot.yaxis.axis_label = ylabel\n",
    "    plot.yaxis.axis_label_text_font_style = 'bold'\n",
    "    plot.yaxis.major_label_text_font_style = \"bold\"\n",
    "    plot.yaxis.axis_label_text_font_size = size\n",
    "    plot.yaxis.major_label_text_font_size = size\n",
    "\n",
    "    # Legend format\n",
    "    plot.legend.location = location\n",
    "    plot.legend.click_policy = \"hide\"\n",
    "    plot.legend.label_text_font_size = labelsize\n",
    "    plot.legend.label_text_font_style = 'bold'\n",
    "    plot.legend.border_line_width = 3\n",
    "    plot.legend.border_line_color = \"navy\"\n",
    "    plot.legend.border_line_alpha = 0.5\n",
    "\n",
    "    # Title format\n",
    "    plot.title.text_font_size = titlesize\n",
    "    return plot"
   ]
  },
  {
   "attachments": {},
   "cell_type": "markdown",
   "metadata": {},
   "source": [
    "# Define gaussian function \n",
    "\n",
    "$y = \\mathrm{e}^{-\\left(\\frac{x-\\mu}{\\sigma}\\right)^n}$"
   ]
  },
  {
   "cell_type": "code",
   "execution_count": 40,
   "metadata": {},
   "outputs": [
    {
     "data": {
      "text/html": [
       "\n",
       "\n",
       "\n",
       "\n",
       "\n",
       "\n",
       "  <div class=\"bk-root\" id=\"32788ca3-9f64-409f-95db-83cef12ae288\" data-root-id=\"4117\"></div>\n"
      ]
     },
     "metadata": {},
     "output_type": "display_data"
    },
    {
     "data": {
      "application/javascript": "(function(root) {\n  function embed_document(root) {\n    \n  const docs_json = {\"90bdaa8d-d752-4bf3-b327-003cd78346f6\":{\"defs\":[],\"roots\":{\"references\":[{\"attributes\":{\"below\":[{\"id\":\"4128\"}],\"center\":[{\"id\":\"4131\"},{\"id\":\"4135\"}],\"height\":400,\"left\":[{\"id\":\"4132\"}],\"renderers\":[{\"id\":\"4154\"},{\"id\":\"4160\"}],\"title\":{\"id\":\"4118\"},\"toolbar\":{\"id\":\"4143\"},\"width\":500,\"x_range\":{\"id\":\"4120\"},\"x_scale\":{\"id\":\"4124\"},\"y_range\":{\"id\":\"4122\"},\"y_scale\":{\"id\":\"4126\"}},\"id\":\"4117\",\"subtype\":\"Figure\",\"type\":\"Plot\"},{\"attributes\":{\"coordinates\":null,\"data_source\":{\"id\":\"4156\"},\"glyph\":{\"id\":\"4157\"},\"group\":null,\"hover_glyph\":null,\"muted_glyph\":{\"id\":\"4159\"},\"nonselection_glyph\":{\"id\":\"4158\"},\"view\":{\"id\":\"4161\"}},\"id\":\"4160\",\"type\":\"GlyphRenderer\"},{\"attributes\":{},\"id\":\"4139\",\"type\":\"SaveTool\"},{\"attributes\":{\"axis_label\":\"Wavelength (nm)\",\"axis_label_text_font_size\":\"9pt\",\"axis_label_text_font_style\":\"bold\",\"coordinates\":null,\"formatter\":{\"id\":\"4310\"},\"group\":null,\"major_label_policy\":{\"id\":\"4311\"},\"major_label_text_font_size\":\"9pt\",\"major_label_text_font_style\":\"bold\",\"ticker\":{\"id\":\"4129\"}},\"id\":\"4128\",\"type\":\"LinearAxis\"},{\"attributes\":{},\"id\":\"4124\",\"type\":\"LinearScale\"},{\"attributes\":{},\"id\":\"4312\",\"type\":\"UnionRenderers\"},{\"attributes\":{\"tools\":[{\"id\":\"4136\"},{\"id\":\"4137\"},{\"id\":\"4138\"},{\"id\":\"4139\"},{\"id\":\"4140\"},{\"id\":\"4141\"}]},\"id\":\"4143\",\"type\":\"Toolbar\"},{\"attributes\":{},\"id\":\"4129\",\"type\":\"BasicTicker\"},{\"attributes\":{\"fill_alpha\":{\"value\":0.2},\"fill_color\":{\"value\":\"#1f77b4\"},\"hatch_alpha\":{\"value\":0.2},\"line_alpha\":{\"value\":0.2},\"line_color\":{\"value\":\"#1f77b4\"},\"size\":{\"value\":5},\"x\":{\"field\":\"x\"},\"y\":{\"field\":\"y\"}},\"id\":\"4159\",\"type\":\"Circle\"},{\"attributes\":{},\"id\":\"4122\",\"type\":\"DataRange1d\"},{\"attributes\":{},\"id\":\"4141\",\"type\":\"HelpTool\"},{\"attributes\":{\"axis\":{\"id\":\"4128\"},\"coordinates\":null,\"group\":null,\"ticker\":null},\"id\":\"4131\",\"type\":\"Grid\"},{\"attributes\":{\"coordinates\":null,\"group\":null,\"text\":\"Flat-Top Gaussian\",\"text_font_size\":\"9pt\"},\"id\":\"4118\",\"type\":\"Title\"},{\"attributes\":{},\"id\":\"4126\",\"type\":\"LinearScale\"},{\"attributes\":{},\"id\":\"4311\",\"type\":\"AllLabels\"},{\"attributes\":{\"line_alpha\":0.2,\"line_color\":\"#1f77b4\",\"line_width\":2,\"x\":{\"field\":\"x\"},\"y\":{\"field\":\"y\"}},\"id\":\"4153\",\"type\":\"Line\"},{\"attributes\":{\"fill_color\":{\"value\":\"#1f77b4\"},\"line_color\":{\"value\":\"#1f77b4\"},\"size\":{\"value\":5},\"x\":{\"field\":\"x\"},\"y\":{\"field\":\"y\"}},\"id\":\"4157\",\"type\":\"Circle\"},{\"attributes\":{},\"id\":\"4120\",\"type\":\"DataRange1d\"},{\"attributes\":{\"data\":{\"x\":{\"__ndarray__\":\"AAAAAAAALsAQQgghhBAswCGEEEIIISrAMsYYY4wxKMBCCCGEEEImwFJKKaWUUiTAY4wxxhhjIsB0zjnnnHMgwAghhBBCCB3AKKWUUkopGcBKKaWUUkoVwGyttdZaaxHAGGOMMcYYC8BYa6211loDwDjnnHPOOfe/AN9777333r8A33vvvffeP0DnnHPOOfc/YGuttdZaA0AYY4wxxhgLQGyttdZaaxFATCmllFJKFUAopZRSSikZQAghhBBCCB1AdM4555xzIEBkjDHGGGMiQFRKKaWUUiRAQgghhBBCJkAyxhhjjDEoQCKEEEIIISpAEEIIIYQQLEAAAAAAAAAuQA==\",\"dtype\":\"float64\",\"order\":\"little\",\"shape\":[32]},\"y\":{\"__ndarray__\":\"AAAAAAAAAAAAAAAAAAAAAAAAAAAAAAAAAAAAAAAAAAAAAAAAAAAAAAAAAAAAAAAAAAAAAAAAAAAAAAAAAAAAAAAAAAAAAAAAAAAAAAAAAAAAAAAAAAAAAILZsN1hcoEfh7Afp4hbETRBP+ZkJsnXPGlwblwvJ4g/WXqEvgVL7j9ZeoS+BUvuP9JvblwvJ4g/DTrmZCbJ1zyHsB+niFsRNILZsN1hcoEfAAAAAAAAAAAAAAAAAAAAAAAAAAAAAAAAAAAAAAAAAAAAAAAAAAAAAAAAAAAAAAAAAAAAAAAAAAAAAAAAAAAAAAAAAAAAAAAAAAAAAAAAAAAAAAAAAAAAAA==\",\"dtype\":\"float64\",\"order\":\"little\",\"shape\":[32]}},\"selected\":{\"id\":\"4315\"},\"selection_policy\":{\"id\":\"4314\"}},\"id\":\"4156\",\"type\":\"ColumnDataSource\"},{\"attributes\":{},\"id\":\"4137\",\"type\":\"WheelZoomTool\"},{\"attributes\":{\"axis\":{\"id\":\"4132\"},\"coordinates\":null,\"dimension\":1,\"group\":null,\"ticker\":null},\"id\":\"4135\",\"type\":\"Grid\"},{\"attributes\":{\"line_color\":\"#1f77b4\",\"line_width\":2,\"x\":{\"field\":\"x\"},\"y\":{\"field\":\"y\"}},\"id\":\"4151\",\"type\":\"Line\"},{\"attributes\":{},\"id\":\"4314\",\"type\":\"UnionRenderers\"},{\"attributes\":{},\"id\":\"4315\",\"type\":\"Selection\"},{\"attributes\":{\"source\":{\"id\":\"4156\"}},\"id\":\"4161\",\"type\":\"CDSView\"},{\"attributes\":{},\"id\":\"4313\",\"type\":\"Selection\"},{\"attributes\":{\"data\":{\"x\":{\"__ndarray__\":\"AAAAAAAALsAQQgghhBAswCGEEEIIISrAMsYYY4wxKMBCCCGEEEImwFJKKaWUUiTAY4wxxhhjIsB0zjnnnHMgwAghhBBCCB3AKKWUUkopGcBKKaWUUkoVwGyttdZaaxHAGGOMMcYYC8BYa6211loDwDjnnHPOOfe/AN9777333r8A33vvvffeP0DnnHPOOfc/YGuttdZaA0AYY4wxxhgLQGyttdZaaxFATCmllFJKFUAopZRSSikZQAghhBBCCB1AdM4555xzIEBkjDHGGGMiQFRKKaWUUiRAQgghhBBCJkAyxhhjjDEoQCKEEEIIISpAEEIIIYQQLEAAAAAAAAAuQA==\",\"dtype\":\"float64\",\"order\":\"little\",\"shape\":[32]},\"y\":{\"__ndarray__\":\"AAAAAAAAAAAAAAAAAAAAAAAAAAAAAAAAAAAAAAAAAAAAAAAAAAAAAAAAAAAAAAAAAAAAAAAAAAAAAAAAAAAAAAAAAAAAAAAAAAAAAAAAAAAAAAAAAAAAAILZsN1hcoEfh7Afp4hbETRBP+ZkJsnXPGlwblwvJ4g/WXqEvgVL7j9ZeoS+BUvuP9JvblwvJ4g/DTrmZCbJ1zyHsB+niFsRNILZsN1hcoEfAAAAAAAAAAAAAAAAAAAAAAAAAAAAAAAAAAAAAAAAAAAAAAAAAAAAAAAAAAAAAAAAAAAAAAAAAAAAAAAAAAAAAAAAAAAAAAAAAAAAAAAAAAAAAAAAAAAAAA==\",\"dtype\":\"float64\",\"order\":\"little\",\"shape\":[32]}},\"selected\":{\"id\":\"4313\"},\"selection_policy\":{\"id\":\"4312\"}},\"id\":\"4150\",\"type\":\"ColumnDataSource\"},{\"attributes\":{\"bottom_units\":\"screen\",\"coordinates\":null,\"fill_alpha\":0.5,\"fill_color\":\"lightgrey\",\"group\":null,\"left_units\":\"screen\",\"level\":\"overlay\",\"line_alpha\":1.0,\"line_color\":\"black\",\"line_dash\":[4,4],\"line_width\":2,\"right_units\":\"screen\",\"syncable\":false,\"top_units\":\"screen\"},\"id\":\"4142\",\"type\":\"BoxAnnotation\"},{\"attributes\":{\"axis_label\":\"Power (dBm)\",\"axis_label_text_font_size\":\"9pt\",\"axis_label_text_font_style\":\"bold\",\"coordinates\":null,\"formatter\":{\"id\":\"4307\"},\"group\":null,\"major_label_policy\":{\"id\":\"4308\"},\"major_label_text_font_size\":\"9pt\",\"major_label_text_font_style\":\"bold\",\"ticker\":{\"id\":\"4133\"}},\"id\":\"4132\",\"type\":\"LinearAxis\"},{\"attributes\":{\"source\":{\"id\":\"4150\"}},\"id\":\"4155\",\"type\":\"CDSView\"},{\"attributes\":{},\"id\":\"4133\",\"type\":\"BasicTicker\"},{\"attributes\":{},\"id\":\"4308\",\"type\":\"AllLabels\"},{\"attributes\":{\"line_alpha\":0.1,\"line_color\":\"#1f77b4\",\"line_width\":2,\"x\":{\"field\":\"x\"},\"y\":{\"field\":\"y\"}},\"id\":\"4152\",\"type\":\"Line\"},{\"attributes\":{},\"id\":\"4310\",\"type\":\"BasicTickFormatter\"},{\"attributes\":{\"overlay\":{\"id\":\"4142\"}},\"id\":\"4138\",\"type\":\"BoxZoomTool\"},{\"attributes\":{},\"id\":\"4140\",\"type\":\"ResetTool\"},{\"attributes\":{},\"id\":\"4307\",\"type\":\"BasicTickFormatter\"},{\"attributes\":{},\"id\":\"4136\",\"type\":\"PanTool\"},{\"attributes\":{\"coordinates\":null,\"data_source\":{\"id\":\"4150\"},\"glyph\":{\"id\":\"4151\"},\"group\":null,\"hover_glyph\":null,\"muted_glyph\":{\"id\":\"4153\"},\"nonselection_glyph\":{\"id\":\"4152\"},\"view\":{\"id\":\"4155\"}},\"id\":\"4154\",\"type\":\"GlyphRenderer\"},{\"attributes\":{\"fill_alpha\":{\"value\":0.1},\"fill_color\":{\"value\":\"#1f77b4\"},\"hatch_alpha\":{\"value\":0.1},\"line_alpha\":{\"value\":0.1},\"line_color\":{\"value\":\"#1f77b4\"},\"size\":{\"value\":5},\"x\":{\"field\":\"x\"},\"y\":{\"field\":\"y\"}},\"id\":\"4158\",\"type\":\"Circle\"}],\"root_ids\":[\"4117\"]},\"title\":\"Bokeh Application\",\"version\":\"2.4.1\"}};\n  const render_items = [{\"docid\":\"90bdaa8d-d752-4bf3-b327-003cd78346f6\",\"root_ids\":[\"4117\"],\"roots\":{\"4117\":\"32788ca3-9f64-409f-95db-83cef12ae288\"}}];\n  root.Bokeh.embed.embed_items_notebook(docs_json, render_items);\n\n  }\n  if (root.Bokeh !== undefined) {\n    embed_document(root);\n  } else {\n    let attempts = 0;\n    const timer = setInterval(function(root) {\n      if (root.Bokeh !== undefined) {\n        clearInterval(timer);\n        embed_document(root);\n      } else {\n        attempts++;\n        if (attempts > 100) {\n          clearInterval(timer);\n          console.log(\"Bokeh: ERROR: Unable to run BokehJS code because BokehJS library is missing\");\n        }\n      }\n    }, 10, root)\n  }\n})(window);",
      "application/vnd.bokehjs_exec.v0+json": ""
     },
     "metadata": {
      "application/vnd.bokehjs_exec.v0+json": {
       "id": "4117"
      }
     },
     "output_type": "display_data"
    }
   ],
   "source": [
    "\n",
    "from bokeh.plotting import figure, show\n",
    "import numpy as np\n",
    "import warnings\n",
    "warnings.filterwarnings('ignore')\n",
    "\n",
    "mu = 0\n",
    "sigma = 1\n",
    "n = 4\n",
    "\n",
    "x = np.linspace(-15, 15, 32)\n",
    "y = np.exp(-((x-mu)/sigma)**n)\n",
    "\n",
    "# Create a new Bokeh figure\n",
    "p = figure(width = 500, height = 400, title=\"Flat-Top Gaussian\", x_axis_label='x', y_axis_label='y')\n",
    "\n",
    "# Add a line renderer to the figure\n",
    "p.line(x, y, line_width=2)\n",
    "p.circle(x, y, size=5)\n",
    "\n",
    "# Show \n",
    "p = plot_format(p, \"Wavelength (nm)\", \"Power (dBm)\",'bottom_left', \"9pt\", \"9pt\", \"9pt\")\n",
    "show(p)"
   ]
  },
  {
   "cell_type": "code",
   "execution_count": 22,
   "metadata": {},
   "outputs": [
    {
     "data": {
      "text/html": [
       "\n",
       "<div id=\"altair-viz-e199da69ee1948b1b01334eb84437717\"></div>\n",
       "<script type=\"text/javascript\">\n",
       "  var VEGA_DEBUG = (typeof VEGA_DEBUG == \"undefined\") ? {} : VEGA_DEBUG;\n",
       "  (function(spec, embedOpt){\n",
       "    let outputDiv = document.currentScript.previousElementSibling;\n",
       "    if (outputDiv.id !== \"altair-viz-e199da69ee1948b1b01334eb84437717\") {\n",
       "      outputDiv = document.getElementById(\"altair-viz-e199da69ee1948b1b01334eb84437717\");\n",
       "    }\n",
       "    const paths = {\n",
       "      \"vega\": \"https://cdn.jsdelivr.net/npm//vega@5?noext\",\n",
       "      \"vega-lib\": \"https://cdn.jsdelivr.net/npm//vega-lib?noext\",\n",
       "      \"vega-lite\": \"https://cdn.jsdelivr.net/npm//vega-lite@4.17.0?noext\",\n",
       "      \"vega-embed\": \"https://cdn.jsdelivr.net/npm//vega-embed@6?noext\",\n",
       "    };\n",
       "\n",
       "    function maybeLoadScript(lib, version) {\n",
       "      var key = `${lib.replace(\"-\", \"\")}_version`;\n",
       "      return (VEGA_DEBUG[key] == version) ?\n",
       "        Promise.resolve(paths[lib]) :\n",
       "        new Promise(function(resolve, reject) {\n",
       "          var s = document.createElement('script');\n",
       "          document.getElementsByTagName(\"head\")[0].appendChild(s);\n",
       "          s.async = true;\n",
       "          s.onload = () => {\n",
       "            VEGA_DEBUG[key] = version;\n",
       "            return resolve(paths[lib]);\n",
       "          };\n",
       "          s.onerror = () => reject(`Error loading script: ${paths[lib]}`);\n",
       "          s.src = paths[lib];\n",
       "        });\n",
       "    }\n",
       "\n",
       "    function showError(err) {\n",
       "      outputDiv.innerHTML = `<div class=\"error\" style=\"color:red;\">${err}</div>`;\n",
       "      throw err;\n",
       "    }\n",
       "\n",
       "    function displayChart(vegaEmbed) {\n",
       "      vegaEmbed(outputDiv, spec, embedOpt)\n",
       "        .catch(err => showError(`Javascript Error: ${err.message}<br>This usually means there's a typo in your chart specification. See the javascript console for the full traceback.`));\n",
       "    }\n",
       "\n",
       "    if(typeof define === \"function\" && define.amd) {\n",
       "      requirejs.config({paths});\n",
       "      require([\"vega-embed\"], displayChart, err => showError(`Error loading script: ${err.message}`));\n",
       "    } else {\n",
       "      maybeLoadScript(\"vega\", \"5\")\n",
       "        .then(() => maybeLoadScript(\"vega-lite\", \"4.17.0\"))\n",
       "        .then(() => maybeLoadScript(\"vega-embed\", \"6\"))\n",
       "        .catch(showError)\n",
       "        .then(() => displayChart(vegaEmbed));\n",
       "    }\n",
       "  })({\"config\": {\"view\": {\"continuousWidth\": 400, \"continuousHeight\": 300}}, \"data\": {\"name\": \"data-1487c93b91dee61ec4c167e470e512f4\"}, \"mark\": \"rect\", \"encoding\": {\"color\": {\"field\": \"z\", \"type\": \"quantitative\"}, \"x\": {\"field\": \"x\", \"type\": \"ordinal\"}, \"y\": {\"field\": \"y\", \"type\": \"ordinal\"}}, \"$schema\": \"https://vega.github.io/schema/vega-lite/v4.17.0.json\", \"datasets\": {\"data-1487c93b91dee61ec4c167e470e512f4\": [{\"x\": -5, \"y\": -5, \"z\": 50}, {\"x\": -4, \"y\": -5, \"z\": 41}, {\"x\": -3, \"y\": -5, \"z\": 34}, {\"x\": -2, \"y\": -5, \"z\": 29}, {\"x\": -1, \"y\": -5, \"z\": 26}, {\"x\": 0, \"y\": -5, \"z\": 25}, {\"x\": 1, \"y\": -5, \"z\": 26}, {\"x\": 2, \"y\": -5, \"z\": 29}, {\"x\": 3, \"y\": -5, \"z\": 34}, {\"x\": 4, \"y\": -5, \"z\": 41}, {\"x\": -5, \"y\": -4, \"z\": 41}, {\"x\": -4, \"y\": -4, \"z\": 32}, {\"x\": -3, \"y\": -4, \"z\": 25}, {\"x\": -2, \"y\": -4, \"z\": 20}, {\"x\": -1, \"y\": -4, \"z\": 17}, {\"x\": 0, \"y\": -4, \"z\": 16}, {\"x\": 1, \"y\": -4, \"z\": 17}, {\"x\": 2, \"y\": -4, \"z\": 20}, {\"x\": 3, \"y\": -4, \"z\": 25}, {\"x\": 4, \"y\": -4, \"z\": 32}, {\"x\": -5, \"y\": -3, \"z\": 34}, {\"x\": -4, \"y\": -3, \"z\": 25}, {\"x\": -3, \"y\": -3, \"z\": 18}, {\"x\": -2, \"y\": -3, \"z\": 13}, {\"x\": -1, \"y\": -3, \"z\": 10}, {\"x\": 0, \"y\": -3, \"z\": 9}, {\"x\": 1, \"y\": -3, \"z\": 10}, {\"x\": 2, \"y\": -3, \"z\": 13}, {\"x\": 3, \"y\": -3, \"z\": 18}, {\"x\": 4, \"y\": -3, \"z\": 25}, {\"x\": -5, \"y\": -2, \"z\": 29}, {\"x\": -4, \"y\": -2, \"z\": 20}, {\"x\": -3, \"y\": -2, \"z\": 13}, {\"x\": -2, \"y\": -2, \"z\": 8}, {\"x\": -1, \"y\": -2, \"z\": 5}, {\"x\": 0, \"y\": -2, \"z\": 4}, {\"x\": 1, \"y\": -2, \"z\": 5}, {\"x\": 2, \"y\": -2, \"z\": 8}, {\"x\": 3, \"y\": -2, \"z\": 13}, {\"x\": 4, \"y\": -2, \"z\": 20}, {\"x\": -5, \"y\": -1, \"z\": 26}, {\"x\": -4, \"y\": -1, \"z\": 17}, {\"x\": -3, \"y\": -1, \"z\": 10}, {\"x\": -2, \"y\": -1, \"z\": 5}, {\"x\": -1, \"y\": -1, \"z\": 2}, {\"x\": 0, \"y\": -1, \"z\": 1}, {\"x\": 1, \"y\": -1, \"z\": 2}, {\"x\": 2, \"y\": -1, \"z\": 5}, {\"x\": 3, \"y\": -1, \"z\": 10}, {\"x\": 4, \"y\": -1, \"z\": 17}, {\"x\": -5, \"y\": 0, \"z\": 25}, {\"x\": -4, \"y\": 0, \"z\": 16}, {\"x\": -3, \"y\": 0, \"z\": 9}, {\"x\": -2, \"y\": 0, \"z\": 4}, {\"x\": -1, \"y\": 0, \"z\": 1}, {\"x\": 0, \"y\": 0, \"z\": 0}, {\"x\": 1, \"y\": 0, \"z\": 1}, {\"x\": 2, \"y\": 0, \"z\": 4}, {\"x\": 3, \"y\": 0, \"z\": 9}, {\"x\": 4, \"y\": 0, \"z\": 16}, {\"x\": -5, \"y\": 1, \"z\": 26}, {\"x\": -4, \"y\": 1, \"z\": 17}, {\"x\": -3, \"y\": 1, \"z\": 10}, {\"x\": -2, \"y\": 1, \"z\": 5}, {\"x\": -1, \"y\": 1, \"z\": 2}, {\"x\": 0, \"y\": 1, \"z\": 1}, {\"x\": 1, \"y\": 1, \"z\": 2}, {\"x\": 2, \"y\": 1, \"z\": 5}, {\"x\": 3, \"y\": 1, \"z\": 10}, {\"x\": 4, \"y\": 1, \"z\": 17}, {\"x\": -5, \"y\": 2, \"z\": 29}, {\"x\": -4, \"y\": 2, \"z\": 20}, {\"x\": -3, \"y\": 2, \"z\": 13}, {\"x\": -2, \"y\": 2, \"z\": 8}, {\"x\": -1, \"y\": 2, \"z\": 5}, {\"x\": 0, \"y\": 2, \"z\": 4}, {\"x\": 1, \"y\": 2, \"z\": 5}, {\"x\": 2, \"y\": 2, \"z\": 8}, {\"x\": 3, \"y\": 2, \"z\": 13}, {\"x\": 4, \"y\": 2, \"z\": 20}, {\"x\": -5, \"y\": 3, \"z\": 34}, {\"x\": -4, \"y\": 3, \"z\": 25}, {\"x\": -3, \"y\": 3, \"z\": 18}, {\"x\": -2, \"y\": 3, \"z\": 13}, {\"x\": -1, \"y\": 3, \"z\": 10}, {\"x\": 0, \"y\": 3, \"z\": 9}, {\"x\": 1, \"y\": 3, \"z\": 10}, {\"x\": 2, \"y\": 3, \"z\": 13}, {\"x\": 3, \"y\": 3, \"z\": 18}, {\"x\": 4, \"y\": 3, \"z\": 25}, {\"x\": -5, \"y\": 4, \"z\": 41}, {\"x\": -4, \"y\": 4, \"z\": 32}, {\"x\": -3, \"y\": 4, \"z\": 25}, {\"x\": -2, \"y\": 4, \"z\": 20}, {\"x\": -1, \"y\": 4, \"z\": 17}, {\"x\": 0, \"y\": 4, \"z\": 16}, {\"x\": 1, \"y\": 4, \"z\": 17}, {\"x\": 2, \"y\": 4, \"z\": 20}, {\"x\": 3, \"y\": 4, \"z\": 25}, {\"x\": 4, \"y\": 4, \"z\": 32}]}}, {\"mode\": \"vega-lite\"});\n",
       "</script>"
      ],
      "text/plain": [
       "alt.Chart(...)"
      ]
     },
     "execution_count": 22,
     "metadata": {},
     "output_type": "execute_result"
    }
   ],
   "source": [
    "import altair as alt\n",
    "import numpy as np\n",
    "import pandas as pd\n",
    "\n",
    "# Compute x^2 + y^2 across a 2D grid\n",
    "x, y = np.meshgrid(range(-5, 5), range(-5, 5))\n",
    "z = x ** 2 + y ** 2\n",
    "\n",
    "# Convert this grid to columnar data expected by Altair\n",
    "source = pd.DataFrame({'x': x.ravel(),\n",
    "                     'y': y.ravel(),\n",
    "                     'z': z.ravel()})\n",
    "\n",
    "alt.Chart(source).mark_rect().encode(\n",
    "    x='x:O',\n",
    "    y='y:O',\n",
    "    color='z:Q'\n",
    ")"
   ]
  },
  {
   "cell_type": "code",
   "execution_count": 23,
   "metadata": {},
   "outputs": [
    {
     "data": {
      "image/png": "[encoded data removed]",
      "text/plain": [
       "<Figure size 432x288 with 1 Axes>"
      ]
     },
     "metadata": {
      "needs_background": "light"
     },
     "output_type": "display_data"
    }
   ],
   "source": [
    "import matplotlib.pyplot as plt\n",
    "import numpy as np\n",
    "\n",
    "mu = 0\n",
    "sigma = 1\n",
    "n = 4\n",
    "\n",
    "x = np.linspace(-5, 5, 1000)\n",
    "y = np.exp(-((x-mu)/sigma)**n)\n",
    "\n",
    "plt.plot(x, y)\n",
    "plt.show()"
   ]
  },
  {
   "cell_type": "code",
   "execution_count": null,
   "metadata": {},
   "outputs": [],
   "source": []
  }
 ],
 "metadata": {
  "kernelspec": {
   "display_name": "WebApps",
   "language": "python",
   "name": "python3"
  },
  "language_info": {
   "codemirror_mode": {
    "name": "ipython",
    "version": 3
   },
   "file_extension": ".py",
   "mimetype": "text/x-python",
   "name": "python",
   "nbconvert_exporter": "python",
   "pygments_lexer": "ipython3",
   "version": "3.9.7"
  },
  "orig_nbformat": 4,
  "vscode": {
   "interpreter": {
    "hash": "7b4aa6cd15b41e0a0e7b23be56373d970d149bd37bb73235b24c980a49836267"
   }
  }
 },
 "nbformat": 4,
 "nbformat_minor": 2
}
