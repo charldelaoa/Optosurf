{
 "cells": [
  {
   "cell_type": "code",
   "execution_count": 28,
   "metadata": {},
   "outputs": [
    {
     "name": "stdout",
     "output_type": "stream",
     "text": [
      "4096\n"
     ]
    }
   ],
   "source": [
    "import numpy as np\n",
    "path = '/Users/carlosreyes/Desktop/Academics/postdoc/confirm/python/optosurf/Streamlit/data/f/reference/'\n",
    "file = path + 'PT_SiRef_shiny_70.txt'\n",
    "count = 0\n",
    "\n",
    "matrix = np.zeros((32, 4096))\n",
    "\n",
    "with open(file, 'r') as f:\n",
    "    first_line = f.readline()\n",
    "    numeric_data = []\n",
    "    count = 0\n",
    "    for line in f:\n",
    "        semicolon_position = line.index(';')\n",
    "        line = line[semicolon_position+1:]\n",
    "        # print(line)\n",
    "        numbers = line.split()\n",
    "        numeric_array = list(map(int, numbers))\n",
    "        # print(numeric_array)\n",
    "        # print()\n",
    "        matrix[:,count] = numeric_array\n",
    "        count+=1\n",
    "    print(count)\n",
    "\n",
    "file_csv = '/Users/carlosreyes/Desktop/Academics/postdoc/confirm/python/optosurf/Streamlit/data/f/reference/'\n",
    "file_csv = file_csv + 'PT_SiRef_shiny_70.csv'\n",
    "np.savetxt(file_csv, matrix, delimiter=',')"
   ]
  },
  {
   "cell_type": "code",
   "execution_count": 13,
   "metadata": {},
   "outputs": [
    {
     "name": "stdout",
     "output_type": "stream",
     "text": [
      "4096\n"
     ]
    }
   ],
   "source": [
    "import numpy as np\n",
    "path = '/Users/carlosreyes/Desktop/Academics/postdoc/confirm/python/optosurf/Streamlit/data/f/offaxis/'\n",
    "file = path + 'Oxide1_offaxis_20deg.txt'\n",
    "count = 0\n",
    "\n",
    "matrix = np.zeros((32, 4096))\n",
    "\n",
    "with open(file, 'r') as f:\n",
    "    first_line = f.readline()\n",
    "    numeric_data = []\n",
    "    count = 0\n",
    "    for line in f:\n",
    "        semicolon_position = line.index(';')\n",
    "        line = line[semicolon_position+1:]\n",
    "        # print(line)\n",
    "        numbers = line.split()\n",
    "        numeric_array = list(map(int, numbers))\n",
    "        # print(numeric_array)\n",
    "        # print()\n",
    "        matrix[:,count] = numeric_array\n",
    "        count+=1\n",
    "    print(count)\n",
    "\n",
    "file_csv = path + 'Oxide1_offaxis_20deg.csv'\n",
    "np.savetxt(file_csv, matrix, delimiter=',')"
   ]
  },
  {
   "cell_type": "code",
   "execution_count": 6,
   "metadata": {},
   "outputs": [
    {
     "name": "stdout",
     "output_type": "stream",
     "text": [
      "4096\n"
     ]
    }
   ],
   "source": [
    "import numpy as np\n",
    "path = '/Users/carlosreyes/Desktop/Academics/postdoc/confirm/python/optosurf/Streamlit/data/f/center/'\n",
    "file = path + 'Rockleyref_20deg_0.150.txt'\n",
    "count = 0\n",
    "\n",
    "matrix = np.zeros((32, 4096))\n",
    "\n",
    "with open(file, 'r') as f:\n",
    "    first_line = f.readline()\n",
    "    numeric_data = []\n",
    "    count = 0\n",
    "    for line in f:\n",
    "        semicolon_position = line.index(';')\n",
    "        line = line[semicolon_position+1:]\n",
    "        # print(line)\n",
    "        numbers = line.split()\n",
    "        numeric_array = list(map(int, numbers))\n",
    "        # print(numeric_array)\n",
    "        # print()\n",
    "        matrix[:,count] = numeric_array\n",
    "        count+=1\n",
    "    print(count)\n",
    "\n",
    "file_csv = path + 'Rockleyref_20deg_0.150.csv'\n",
    "np.savetxt(file_csv, matrix, delimiter=',')\n",
    "\n",
    "\n",
    "\n"
   ]
  },
  {
   "cell_type": "code",
   "execution_count": 11,
   "metadata": {},
   "outputs": [
    {
     "name": "stdout",
     "output_type": "stream",
     "text": [
      "Ann5_onoff_20deg_b_0.150.txt\n",
      "Rockley_rough_-0.100.txt\n",
      "Rockley_rough_0.050.txt\n",
      "Ann7_onoff_20deg_b_-0.150.txt\n",
      "Ann10_onoff_20deg_b_0.050.txt\n",
      "Ann7_onoff_20deg_b_0.000.txt\n",
      "PT_3um_0.000.txt\n",
      "Ann10_onoff_20deg_b_-0.150.txt\n",
      "PT_3um_-0.100.txt\n",
      "Ann5_onoff_20deg_b_0.050.txt\n",
      "Ann5_onoff_20deg_b_-0.100.txt\n",
      "PT_3um_0.100.txt\n",
      "Ann10_onoff_20deg_b_-0.050.txt\n",
      "Ann10_onoff_20deg_b_0.150.txt\n",
      "Rockley_rough_0.150.txt\n",
      "Ann7_onoff_20deg_b_-0.050.txt\n",
      "Ann7_onoff_20deg_b_0.100.txt\n",
      "Rockley_rough_0.000.txt\n",
      "Ann7_onoff_20deg_b_-0.100.txt\n",
      "Ann10_onoff_20deg_b_0.000.txt\n",
      "Ann7_onoff_20deg_b_0.050.txt\n",
      "PT_3um_0.050.txt\n",
      "Ann10_onoff_20deg_b_-0.100.txt\n",
      "PT_3um_-0.150.txt\n",
      "Ann5_onoff_20deg_b_-0.050.txt\n",
      "Ann5_onoff_20deg_b_0.100.txt\n",
      "Rockley_rough_-0.150.txt\n",
      "PT_3um_0.150.txt\n",
      "PT_3um_-0.050.txt\n",
      "Ann10_onoff_20deg_b_0.100.txt\n",
      "Rockley_rough_0.100.txt\n",
      "Ann7_onoff_20deg_b_0.150.txt\n",
      "Rockley_rough_-0.050.txt\n",
      "Ann5_onoff_20deg_b_0.000.txt\n",
      "Ann5_onoff_20deg_b_-0.150.txt\n"
     ]
    }
   ],
   "source": [
    "import numpy as np  \n",
    "import os\n",
    "path = '/Users/carlosreyes/Desktop/Academics/postdoc/confirm/python/optosurf/Streamlit/data/f/unknown/'\n",
    "\n",
    "for filename in os.listdir(path):\n",
    "    if '.txt' in filename:\n",
    "        matrix = np.zeros((32, 4096))\n",
    "        print(filename)\n",
    "        file = path + filename\n",
    "        with open(file, 'r') as f:\n",
    "            first_line = f.readline()\n",
    "            numeric_data = []\n",
    "            count = 0\n",
    "            for line in f:\n",
    "                semicolon_position = line.index(';')\n",
    "                line = line[semicolon_position+1:]\n",
    "                numbers = line.split()\n",
    "                numeric_array = list(map(int, numbers))\n",
    "                # print(numeric_array)\n",
    "                # print()\n",
    "                matrix[:,count] = numeric_array\n",
    "                count+=1\n",
    "        file_csv = file[:-4] + '.csv'\n",
    "        np.savetxt(file_csv, matrix, delimiter=',')\n",
    "    "
   ]
  }
 ],
 "metadata": {
  "kernelspec": {
   "display_name": "webapss",
   "language": "python",
   "name": "python3"
  },
  "language_info": {
   "codemirror_mode": {
    "name": "ipython",
    "version": 3
   },
   "file_extension": ".py",
   "mimetype": "text/x-python",
   "name": "python",
   "nbconvert_exporter": "python",
   "pygments_lexer": "ipython3",
   "version": "3.9.1"
  },
  "orig_nbformat": 4
 },
 "nbformat": 4,
 "nbformat_minor": 2
}
