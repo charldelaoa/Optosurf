{
 "cells": [
  {
   "attachments": {},
   "cell_type": "markdown",
   "metadata": {},
   "source": [
    "# Equation definition\n",
    "The Gaussian Equation is defined as: $y = e^{-((x-\\mu)/\\sigma)^n}$\""
   ]
  },
  {
   "attachments": {},
   "cell_type": "markdown",
   "metadata": {},
   "source": []
  },
  {
   "cell_type": "markdown",
   "metadata": {},
   "source": []
  }
 ],
 "metadata": {
  "kernelspec": {
   "display_name": "WebApps",
   "language": "python",
   "name": "python3"
  },
  "language_info": {
   "name": "python",
   "version": "3.9.7 (default, Sep 16 2021, 08:50:36) \n[Clang 10.0.0 ]"
  },
  "orig_nbformat": 4,
  "vscode": {
   "interpreter": {
    "hash": "7b4aa6cd15b41e0a0e7b23be56373d970d149bd37bb73235b24c980a49836267"
   }
  }
 },
 "nbformat": 4,
 "nbformat_minor": 2
}
