{
 "cells": [
  {
   "cell_type": "raw",
   "metadata": {},
   "source": [
    "---\n",
    "title: \"Interleaving algorithm\"\n",
    "format: \n",
    "  html:\n",
    "    code-fold: true\n",
    "    code-tools: true\n",
    "    theme: slate\n",
    "    toc: true\n",
    "    toc-location: left\n",
    "    number-sections: true\n",
    "    fontcolor: \"#E3F4FF\"\n",
    "jupyter: python3\n",
    "---"
   ]
  },
  {
   "cell_type": "code",
   "execution_count": 3,
   "metadata": {},
   "outputs": [],
   "source": [
    "#| echo: false\n",
    "from bokeh.plotting import figure\n",
    "from bokeh.models import Range1d, Span\n",
    "from bokeh.layouts import gridplot\n",
    "import bokeh.palettes\n",
    "import numpy as np\n",
    "import numpy as np\n",
    "palette = [\"#f3c623\", \"#e84c3d\", \"#3d97e8\", \"#3dc8e8\", \"#6dc8e8\", \"#8e7fe5\", \"#f54c4f\", \"#4c4ff5\", \"#4cf5b7\", \"#f5b74c\", \"#b74cf5\", \"#4cf54c\", \"#f54c9c\", \"#9c4cf5\", \"#4cf59c\", \"#f59c4c\", \"#9c4c8f\", \"#4c8f9c\", \"#8f4c9c\", \"#9c8f4c\"]\n",
    "\n",
    "def plot_format(plot, xlabel, ylabel, location, size, titlesize, labelsize):\n",
    "    # x axis format\n",
    "    plot.xaxis.axis_label = xlabel\n",
    "    plot.xaxis.axis_label_text_font_style = 'bold'\n",
    "    plot.xaxis.major_label_text_font_style = \"bold\"\n",
    "    plot.xaxis.axis_label_text_font_size = size\n",
    "    plot.xaxis.major_label_text_font_size = size\n",
    "\n",
    "    # y axis format\n",
    "    plot.yaxis.axis_label = ylabel\n",
    "    plot.yaxis.axis_label_text_font_style = 'bold'\n",
    "    plot.yaxis.major_label_text_font_style = \"bold\"\n",
    "    plot.yaxis.axis_label_text_font_size = size\n",
    "    plot.yaxis.major_label_text_font_size = size\n",
    "\n",
    "    # Legend format\n",
    "    plot.legend.location = location\n",
    "    plot.legend.click_policy = \"hide\"\n",
    "    plot.legend.label_text_font_size = labelsize\n",
    "    plot.legend.label_text_font_style = 'bold'\n",
    "    plot.legend.border_line_width = 3\n",
    "    plot.legend.background_fill_alpha = 0.0\n",
    "    plot.legend.label_text_color = \"#E3F4FF\"\n",
    "    # plot.legend.border_line_color = \"navy\"\n",
    "    plot.legend.border_line_alpha = 0.0\n",
    "\n",
    "    # Title format\n",
    "    plot.title.text_font_size = titlesize\n",
    "    plot.background_fill_color = \"#0E1117\"\n",
    "    plot.border_fill_color = \"#0E1117\"\n",
    "\n",
    "    plot.xgrid.grid_line_color = '#2D3135'\n",
    "    plot.ygrid.grid_line_color = '#2D3135'\n",
    "    \n",
    "    plot.yaxis.major_label_text_color = \"#E3F4FF\"\n",
    "    plot.xaxis.major_label_text_color = \"#E3F4FF\"\n",
    "    plot.yaxis.axis_label_text_color = \"#E3F4FF\"\n",
    "    plot.xaxis.axis_label_text_color = \"#E3F4FF\"\n",
    "    plot.title.text_color = \"#A6DDFF\"\n",
    "    plot.title.text_font_style = \"bold\"\n",
    "    \n",
    "    plot.legend.click_policy=\"hide\"\n",
    "    return plot"
   ]
  },
  {
   "attachments": {},
   "cell_type": "markdown",
   "metadata": {},
   "source": [
    "# <span style=\"color:#A6DDFF\">Problem statement - interleaving algorithm</span>"
   ]
  },
  {
   "attachments": {},
   "cell_type": "markdown",
   "metadata": {},
   "source": [
    "The sampled optical field on the line detector was previously simulated in notebook: [Optical field simulation](a_Optical_Simulation.ipynb).\n",
    "\n",
    "Some of the observations were:\n",
    "\n",
    "1. There are 32 sampling points as the line detector has the same number of pixels. This was simulated using a window integration over a defined optical field defined by: $y = e^{-((x-\\mu)/\\sigma)^n}$. \n",
    "\n",
    "2. The parameters $\\mu$ and $\\sigma$ determine the lateral shift and widht of the gaussian function respectively. These parameters are related to the incoming light angle from the sample and the material roughness.\n",
    "\n",
    "3. The $\\mu$ parameter was swept to simulate different incoming light angles. With this data, a histogram was then reconstructed and its standard deviation value was calculated.  \n",
    "\n",
    "4. An oscillating pattern was observed in the histogram's standard deviation (Aq parameter). This is not ideal as this indicated a roughness change, however only the angle of the incoming light was being swept.\n",
    "\n",
    "5. Hence, a new parameter that is constant as a function of $\\mu$ has to be found. \n",
    "\n",
    "6. It is proposed to implement an interleaving algorithm to increase the density of sampling points as shown in @fig-1\n"
   ]
  },
  {
   "attachments": {},
   "cell_type": "markdown",
   "metadata": {},
   "source": [
    "\n",
    "::: {#fig-1}\n",
    "\n",
    "![](images/b/Fig_1.png)\n",
    "\n",
    "a. Generate gaussians with different $\\mu$ values. b. Calculate a window integration and re-center sampling points. c. Interleave points to increase sampling density. d. Interpolate to get the underlying optical field.\n",
    ":::"
   ]
  },
  {
   "attachments": {},
   "cell_type": "markdown",
   "metadata": {},
   "source": [
    "## a. Generate gaussian values with different $\\mu$ values"
   ]
  },
  {
   "cell_type": "markdown",
   "metadata": {},
   "source": []
  }
 ],
 "metadata": {
  "kernelspec": {
   "display_name": "WebApps",
   "language": "python",
   "name": "python3"
  },
  "language_info": {
   "codemirror_mode": {
    "name": "ipython",
    "version": 3
   },
   "file_extension": ".py",
   "mimetype": "text/x-python",
   "name": "python",
   "nbconvert_exporter": "python",
   "pygments_lexer": "ipython3",
   "version": "3.9.7"
  },
  "orig_nbformat": 4,
  "vscode": {
   "interpreter": {
    "hash": "7b4aa6cd15b41e0a0e7b23be56373d970d149bd37bb73235b24c980a49836267"
   }
  }
 },
 "nbformat": 4,
 "nbformat_minor": 2
}
