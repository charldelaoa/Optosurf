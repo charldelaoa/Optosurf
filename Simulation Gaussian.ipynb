{
 "cells": [
  {
   "attachments": {},
   "cell_type": "markdown",
   "metadata": {},
   "source": [
    "# Define gaussian function "
   ]
  },
  {
   "cell_type": "code",
   "execution_count": 19,
   "metadata": {},
   "outputs": [
    {
     "data": {
      "text/html": [
       "\n",
       "\n",
       "\n",
       "\n",
       "\n",
       "\n",
       "  <div class=\"bk-root\" id=\"0afc231d-fbd3-4bf4-83e5-f6afbefa5c35\" data-root-id=\"2810\"></div>\n"
      ]
     },
     "metadata": {},
     "output_type": "display_data"
    },
    {
     "data": {
      "application/javascript": "(function(root) {\n  function embed_document(root) {\n    \n  const docs_json = {\"b812ae13-fef5-4ae3-9184-f45fc11d5fcf\":{\"defs\":[],\"roots\":{\"references\":[{\"attributes\":{\"below\":[{\"id\":\"2821\"}],\"center\":[{\"id\":\"2824\"},{\"id\":\"2828\"}],\"height\":400,\"left\":[{\"id\":\"2825\"}],\"renderers\":[{\"id\":\"2847\"}],\"title\":{\"id\":\"2811\"},\"toolbar\":{\"id\":\"2836\"},\"width\":500,\"x_range\":{\"id\":\"2813\"},\"x_scale\":{\"id\":\"2817\"},\"y_range\":{\"id\":\"2815\"},\"y_scale\":{\"id\":\"2819\"}},\"id\":\"2810\",\"subtype\":\"Figure\",\"type\":\"Plot\"},{\"attributes\":{},\"id\":\"2817\",\"type\":\"LinearScale\"},{\"attributes\":{},\"id\":\"2813\",\"type\":\"DataRange1d\"},{\"attributes\":{\"source\":{\"id\":\"2843\"}},\"id\":\"2848\",\"type\":\"CDSView\"},{\"attributes\":{\"data\":{\"x\":{\"__ndarray__\":\"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\",\"dtype\":\"float64\",\"order\":\"little\",\"shape\":[1000]},\"y\":{\"__ndarray__\":\"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\",\"dtype\":\"float64\",\"order\":\"little\",\"shape\":[1000]}},\"selected\":{\"id\":\"2958\"},\"selection_policy\":{\"id\":\"2957\"}},\"id\":\"2843\",\"type\":\"ColumnDataSource\"},{\"attributes\":{},\"id\":\"2815\",\"type\":\"DataRange1d\"},{\"attributes\":{},\"id\":\"2822\",\"type\":\"BasicTicker\"},{\"attributes\":{},\"id\":\"2826\",\"type\":\"BasicTicker\"},{\"attributes\":{\"axis_label\":\"x\",\"coordinates\":null,\"formatter\":{\"id\":\"2955\"},\"group\":null,\"major_label_policy\":{\"id\":\"2956\"},\"ticker\":{\"id\":\"2822\"}},\"id\":\"2821\",\"type\":\"LinearAxis\"},{\"attributes\":{\"axis\":{\"id\":\"2825\"},\"coordinates\":null,\"dimension\":1,\"group\":null,\"ticker\":null},\"id\":\"2828\",\"type\":\"Grid\"},{\"attributes\":{},\"id\":\"2952\",\"type\":\"BasicTickFormatter\"},{\"attributes\":{},\"id\":\"2832\",\"type\":\"SaveTool\"},{\"attributes\":{},\"id\":\"2953\",\"type\":\"AllLabels\"},{\"attributes\":{\"axis\":{\"id\":\"2821\"},\"coordinates\":null,\"group\":null,\"ticker\":null},\"id\":\"2824\",\"type\":\"Grid\"},{\"attributes\":{\"overlay\":{\"id\":\"2835\"}},\"id\":\"2831\",\"type\":\"BoxZoomTool\"},{\"attributes\":{},\"id\":\"2958\",\"type\":\"Selection\"},{\"attributes\":{},\"id\":\"2955\",\"type\":\"BasicTickFormatter\"},{\"attributes\":{\"line_alpha\":0.1,\"line_color\":\"#1f77b4\",\"line_width\":2,\"x\":{\"field\":\"x\"},\"y\":{\"field\":\"y\"}},\"id\":\"2845\",\"type\":\"Line\"},{\"attributes\":{},\"id\":\"2956\",\"type\":\"AllLabels\"},{\"attributes\":{},\"id\":\"2834\",\"type\":\"HelpTool\"},{\"attributes\":{},\"id\":\"2830\",\"type\":\"WheelZoomTool\"},{\"attributes\":{},\"id\":\"2829\",\"type\":\"PanTool\"},{\"attributes\":{\"line_alpha\":0.2,\"line_color\":\"#1f77b4\",\"line_width\":2,\"x\":{\"field\":\"x\"},\"y\":{\"field\":\"y\"}},\"id\":\"2846\",\"type\":\"Line\"},{\"attributes\":{},\"id\":\"2833\",\"type\":\"ResetTool\"},{\"attributes\":{},\"id\":\"2819\",\"type\":\"LinearScale\"},{\"attributes\":{\"axis_label\":\"y\",\"coordinates\":null,\"formatter\":{\"id\":\"2952\"},\"group\":null,\"major_label_policy\":{\"id\":\"2953\"},\"ticker\":{\"id\":\"2826\"}},\"id\":\"2825\",\"type\":\"LinearAxis\"},{\"attributes\":{\"tools\":[{\"id\":\"2829\"},{\"id\":\"2830\"},{\"id\":\"2831\"},{\"id\":\"2832\"},{\"id\":\"2833\"},{\"id\":\"2834\"}]},\"id\":\"2836\",\"type\":\"Toolbar\"},{\"attributes\":{\"coordinates\":null,\"data_source\":{\"id\":\"2843\"},\"glyph\":{\"id\":\"2844\"},\"group\":null,\"hover_glyph\":null,\"muted_glyph\":{\"id\":\"2846\"},\"nonselection_glyph\":{\"id\":\"2845\"},\"view\":{\"id\":\"2848\"}},\"id\":\"2847\",\"type\":\"GlyphRenderer\"},{\"attributes\":{\"coordinates\":null,\"group\":null,\"text\":\"Flat-Top Gaussian\"},\"id\":\"2811\",\"type\":\"Title\"},{\"attributes\":{\"bottom_units\":\"screen\",\"coordinates\":null,\"fill_alpha\":0.5,\"fill_color\":\"lightgrey\",\"group\":null,\"left_units\":\"screen\",\"level\":\"overlay\",\"line_alpha\":1.0,\"line_color\":\"black\",\"line_dash\":[4,4],\"line_width\":2,\"right_units\":\"screen\",\"syncable\":false,\"top_units\":\"screen\"},\"id\":\"2835\",\"type\":\"BoxAnnotation\"},{\"attributes\":{},\"id\":\"2957\",\"type\":\"UnionRenderers\"},{\"attributes\":{\"line_color\":\"#1f77b4\",\"line_width\":2,\"x\":{\"field\":\"x\"},\"y\":{\"field\":\"y\"}},\"id\":\"2844\",\"type\":\"Line\"}],\"root_ids\":[\"2810\"]},\"title\":\"Bokeh Application\",\"version\":\"2.4.1\"}};\n  const render_items = [{\"docid\":\"b812ae13-fef5-4ae3-9184-f45fc11d5fcf\",\"root_ids\":[\"2810\"],\"roots\":{\"2810\":\"0afc231d-fbd3-4bf4-83e5-f6afbefa5c35\"}}];\n  root.Bokeh.embed.embed_items_notebook(docs_json, render_items);\n\n  }\n  if (root.Bokeh !== undefined) {\n    embed_document(root);\n  } else {\n    let attempts = 0;\n    const timer = setInterval(function(root) {\n      if (root.Bokeh !== undefined) {\n        clearInterval(timer);\n        embed_document(root);\n      } else {\n        attempts++;\n        if (attempts > 100) {\n          clearInterval(timer);\n          console.log(\"Bokeh: ERROR: Unable to run BokehJS code because BokehJS library is missing\");\n        }\n      }\n    }, 10, root)\n  }\n})(window);",
      "application/vnd.bokehjs_exec.v0+json": ""
     },
     "metadata": {
      "application/vnd.bokehjs_exec.v0+json": {
       "id": "2810"
      }
     },
     "output_type": "display_data"
    }
   ],
   "source": [
    "from bokeh.plotting import figure, show\n",
    "import numpy as np\n",
    "\n",
    "mu = 0\n",
    "sigma = 100\n",
    "\n",
    "x = np.linspace(-10, 10, 1000)\n",
    "y = np.exp(-(x - mu)**2 / (2 * sigma**2))\n",
    "\n",
    "# Create a new Bokeh figure\n",
    "p = figure(width = 500, height = 400, title=\"Flat-Top Gaussian\", x_axis_label='x', y_axis_label='y')\n",
    "\n",
    "# Add a line renderer to the figure\n",
    "p.line(x, y, line_width=2)\n",
    "\n",
    "# Show the plot\n",
    "show(p)"
   ]
  },
  {
   "cell_type": "code",
   "execution_count": 22,
   "metadata": {},
   "outputs": [
    {
     "data": {
      "text/html": [
       "\n",
       "<div id=\"altair-viz-e199da69ee1948b1b01334eb84437717\"></div>\n",
       "<script type=\"text/javascript\">\n",
       "  var VEGA_DEBUG = (typeof VEGA_DEBUG == \"undefined\") ? {} : VEGA_DEBUG;\n",
       "  (function(spec, embedOpt){\n",
       "    let outputDiv = document.currentScript.previousElementSibling;\n",
       "    if (outputDiv.id !== \"altair-viz-e199da69ee1948b1b01334eb84437717\") {\n",
       "      outputDiv = document.getElementById(\"altair-viz-e199da69ee1948b1b01334eb84437717\");\n",
       "    }\n",
       "    const paths = {\n",
       "      \"vega\": \"https://cdn.jsdelivr.net/npm//vega@5?noext\",\n",
       "      \"vega-lib\": \"https://cdn.jsdelivr.net/npm//vega-lib?noext\",\n",
       "      \"vega-lite\": \"https://cdn.jsdelivr.net/npm//vega-lite@4.17.0?noext\",\n",
       "      \"vega-embed\": \"https://cdn.jsdelivr.net/npm//vega-embed@6?noext\",\n",
       "    };\n",
       "\n",
       "    function maybeLoadScript(lib, version) {\n",
       "      var key = `${lib.replace(\"-\", \"\")}_version`;\n",
       "      return (VEGA_DEBUG[key] == version) ?\n",
       "        Promise.resolve(paths[lib]) :\n",
       "        new Promise(function(resolve, reject) {\n",
       "          var s = document.createElement('script');\n",
       "          document.getElementsByTagName(\"head\")[0].appendChild(s);\n",
       "          s.async = true;\n",
       "          s.onload = () => {\n",
       "            VEGA_DEBUG[key] = version;\n",
       "            return resolve(paths[lib]);\n",
       "          };\n",
       "          s.onerror = () => reject(`Error loading script: ${paths[lib]}`);\n",
       "          s.src = paths[lib];\n",
       "        });\n",
       "    }\n",
       "\n",
       "    function showError(err) {\n",
       "      outputDiv.innerHTML = `<div class=\"error\" style=\"color:red;\">${err}</div>`;\n",
       "      throw err;\n",
       "    }\n",
       "\n",
       "    function displayChart(vegaEmbed) {\n",
       "      vegaEmbed(outputDiv, spec, embedOpt)\n",
       "        .catch(err => showError(`Javascript Error: ${err.message}<br>This usually means there's a typo in your chart specification. See the javascript console for the full traceback.`));\n",
       "    }\n",
       "\n",
       "    if(typeof define === \"function\" && define.amd) {\n",
       "      requirejs.config({paths});\n",
       "      require([\"vega-embed\"], displayChart, err => showError(`Error loading script: ${err.message}`));\n",
       "    } else {\n",
       "      maybeLoadScript(\"vega\", \"5\")\n",
       "        .then(() => maybeLoadScript(\"vega-lite\", \"4.17.0\"))\n",
       "        .then(() => maybeLoadScript(\"vega-embed\", \"6\"))\n",
       "        .catch(showError)\n",
       "        .then(() => displayChart(vegaEmbed));\n",
       "    }\n",
       "  })({\"config\": {\"view\": {\"continuousWidth\": 400, \"continuousHeight\": 300}}, \"data\": {\"name\": \"data-1487c93b91dee61ec4c167e470e512f4\"}, \"mark\": \"rect\", \"encoding\": {\"color\": {\"field\": \"z\", \"type\": \"quantitative\"}, \"x\": {\"field\": \"x\", \"type\": \"ordinal\"}, \"y\": {\"field\": \"y\", \"type\": \"ordinal\"}}, \"$schema\": \"https://vega.github.io/schema/vega-lite/v4.17.0.json\", \"datasets\": {\"data-1487c93b91dee61ec4c167e470e512f4\": [{\"x\": -5, \"y\": -5, \"z\": 50}, {\"x\": -4, \"y\": -5, \"z\": 41}, {\"x\": -3, \"y\": -5, \"z\": 34}, {\"x\": -2, \"y\": -5, \"z\": 29}, {\"x\": -1, \"y\": -5, \"z\": 26}, {\"x\": 0, \"y\": -5, \"z\": 25}, {\"x\": 1, \"y\": -5, \"z\": 26}, {\"x\": 2, \"y\": -5, \"z\": 29}, {\"x\": 3, \"y\": -5, \"z\": 34}, {\"x\": 4, \"y\": -5, \"z\": 41}, {\"x\": -5, \"y\": -4, \"z\": 41}, {\"x\": -4, \"y\": -4, \"z\": 32}, {\"x\": -3, \"y\": -4, \"z\": 25}, {\"x\": -2, \"y\": -4, \"z\": 20}, {\"x\": -1, \"y\": -4, \"z\": 17}, {\"x\": 0, \"y\": -4, \"z\": 16}, {\"x\": 1, \"y\": -4, \"z\": 17}, {\"x\": 2, \"y\": -4, \"z\": 20}, {\"x\": 3, \"y\": -4, \"z\": 25}, {\"x\": 4, \"y\": -4, \"z\": 32}, {\"x\": -5, \"y\": -3, \"z\": 34}, {\"x\": -4, \"y\": -3, \"z\": 25}, {\"x\": -3, \"y\": -3, \"z\": 18}, {\"x\": -2, \"y\": -3, \"z\": 13}, {\"x\": -1, \"y\": -3, \"z\": 10}, {\"x\": 0, \"y\": -3, \"z\": 9}, {\"x\": 1, \"y\": -3, \"z\": 10}, {\"x\": 2, \"y\": -3, \"z\": 13}, {\"x\": 3, \"y\": -3, \"z\": 18}, {\"x\": 4, \"y\": -3, \"z\": 25}, {\"x\": -5, \"y\": -2, \"z\": 29}, {\"x\": -4, \"y\": -2, \"z\": 20}, {\"x\": -3, \"y\": -2, \"z\": 13}, {\"x\": -2, \"y\": -2, \"z\": 8}, {\"x\": -1, \"y\": -2, \"z\": 5}, {\"x\": 0, \"y\": -2, \"z\": 4}, {\"x\": 1, \"y\": -2, \"z\": 5}, {\"x\": 2, \"y\": -2, \"z\": 8}, {\"x\": 3, \"y\": -2, \"z\": 13}, {\"x\": 4, \"y\": -2, \"z\": 20}, {\"x\": -5, \"y\": -1, \"z\": 26}, {\"x\": -4, \"y\": -1, \"z\": 17}, {\"x\": -3, \"y\": -1, \"z\": 10}, {\"x\": -2, \"y\": -1, \"z\": 5}, {\"x\": -1, \"y\": -1, \"z\": 2}, {\"x\": 0, \"y\": -1, \"z\": 1}, {\"x\": 1, \"y\": -1, \"z\": 2}, {\"x\": 2, \"y\": -1, \"z\": 5}, {\"x\": 3, \"y\": -1, \"z\": 10}, {\"x\": 4, \"y\": -1, \"z\": 17}, {\"x\": -5, \"y\": 0, \"z\": 25}, {\"x\": -4, \"y\": 0, \"z\": 16}, {\"x\": -3, \"y\": 0, \"z\": 9}, {\"x\": -2, \"y\": 0, \"z\": 4}, {\"x\": -1, \"y\": 0, \"z\": 1}, {\"x\": 0, \"y\": 0, \"z\": 0}, {\"x\": 1, \"y\": 0, \"z\": 1}, {\"x\": 2, \"y\": 0, \"z\": 4}, {\"x\": 3, \"y\": 0, \"z\": 9}, {\"x\": 4, \"y\": 0, \"z\": 16}, {\"x\": -5, \"y\": 1, \"z\": 26}, {\"x\": -4, \"y\": 1, \"z\": 17}, {\"x\": -3, \"y\": 1, \"z\": 10}, {\"x\": -2, \"y\": 1, \"z\": 5}, {\"x\": -1, \"y\": 1, \"z\": 2}, {\"x\": 0, \"y\": 1, \"z\": 1}, {\"x\": 1, \"y\": 1, \"z\": 2}, {\"x\": 2, \"y\": 1, \"z\": 5}, {\"x\": 3, \"y\": 1, \"z\": 10}, {\"x\": 4, \"y\": 1, \"z\": 17}, {\"x\": -5, \"y\": 2, \"z\": 29}, {\"x\": -4, \"y\": 2, \"z\": 20}, {\"x\": -3, \"y\": 2, \"z\": 13}, {\"x\": -2, \"y\": 2, \"z\": 8}, {\"x\": -1, \"y\": 2, \"z\": 5}, {\"x\": 0, \"y\": 2, \"z\": 4}, {\"x\": 1, \"y\": 2, \"z\": 5}, {\"x\": 2, \"y\": 2, \"z\": 8}, {\"x\": 3, \"y\": 2, \"z\": 13}, {\"x\": 4, \"y\": 2, \"z\": 20}, {\"x\": -5, \"y\": 3, \"z\": 34}, {\"x\": -4, \"y\": 3, \"z\": 25}, {\"x\": -3, \"y\": 3, \"z\": 18}, {\"x\": -2, \"y\": 3, \"z\": 13}, {\"x\": -1, \"y\": 3, \"z\": 10}, {\"x\": 0, \"y\": 3, \"z\": 9}, {\"x\": 1, \"y\": 3, \"z\": 10}, {\"x\": 2, \"y\": 3, \"z\": 13}, {\"x\": 3, \"y\": 3, \"z\": 18}, {\"x\": 4, \"y\": 3, \"z\": 25}, {\"x\": -5, \"y\": 4, \"z\": 41}, {\"x\": -4, \"y\": 4, \"z\": 32}, {\"x\": -3, \"y\": 4, \"z\": 25}, {\"x\": -2, \"y\": 4, \"z\": 20}, {\"x\": -1, \"y\": 4, \"z\": 17}, {\"x\": 0, \"y\": 4, \"z\": 16}, {\"x\": 1, \"y\": 4, \"z\": 17}, {\"x\": 2, \"y\": 4, \"z\": 20}, {\"x\": 3, \"y\": 4, \"z\": 25}, {\"x\": 4, \"y\": 4, \"z\": 32}]}}, {\"mode\": \"vega-lite\"});\n",
       "</script>"
      ],
      "text/plain": [
       "alt.Chart(...)"
      ]
     },
     "execution_count": 22,
     "metadata": {},
     "output_type": "execute_result"
    }
   ],
   "source": [
    "import altair as alt\n",
    "import numpy as np\n",
    "import pandas as pd\n",
    "\n",
    "# Compute x^2 + y^2 across a 2D grid\n",
    "x, y = np.meshgrid(range(-5, 5), range(-5, 5))\n",
    "z = x ** 2 + y ** 2\n",
    "\n",
    "# Convert this grid to columnar data expected by Altair\n",
    "source = pd.DataFrame({'x': x.ravel(),\n",
    "                     'y': y.ravel(),\n",
    "                     'z': z.ravel()})\n",
    "\n",
    "alt.Chart(source).mark_rect().encode(\n",
    "    x='x:O',\n",
    "    y='y:O',\n",
    "    color='z:Q'\n",
    ")"
   ]
  },
  {
   "cell_type": "code",
   "execution_count": null,
   "metadata": {},
   "outputs": [],
   "source": []
  }
 ],
 "metadata": {
  "kernelspec": {
   "display_name": "WebApps",
   "language": "python",
   "name": "python3"
  },
  "language_info": {
   "codemirror_mode": {
    "name": "ipython",
    "version": 3
   },
   "file_extension": ".py",
   "mimetype": "text/x-python",
   "name": "python",
   "nbconvert_exporter": "python",
   "pygments_lexer": "ipython3",
   "version": "3.9.7"
  },
  "orig_nbformat": 4,
  "vscode": {
   "interpreter": {
    "hash": "7b4aa6cd15b41e0a0e7b23be56373d970d149bd37bb73235b24c980a49836267"
   }
  }
 },
 "nbformat": 4,
 "nbformat_minor": 2
}
