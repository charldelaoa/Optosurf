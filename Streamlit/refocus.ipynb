{
 "cells": [
  {
   "cell_type": "code",
   "execution_count": null,
   "metadata": {},
   "outputs": [],
   "source": [
    "import numpy as np"
   ]
  },
  {
   "cell_type": "code",
   "execution_count": 27,
   "metadata": {},
   "outputs": [
    {
     "name": "stdout",
     "output_type": "stream",
     "text": [
      "The file 'data/f/refrockley_focus_p2.txt' contains 4097 lines.\n"
     ]
    }
   ],
   "source": [
    "import numpy as np\n",
    "filename = 'data/f/refrockley_focus_p2.txt'\n",
    "\n",
    "matrix = np.zeros((32, 4096))\n",
    "\n",
    "with open(filename, 'r') as file:\n",
    "    num_lines = sum(1 for line in file)\n",
    "    \n",
    "print(f\"The file '{filename}' contains {num_lines} lines.\")\n",
    "\n",
    "with open(filename, 'r') as file:\n",
    "    lines = file.readlines()[1:]\n",
    "    \n",
    "for i, line in enumerate(lines):\n",
    "    pos = line.find(';')\n",
    "    values = line[pos+1:].split()   \n",
    "    matrix[:,i] = values\n",
    "    \n",
    "save_name = 'data/f/refrockley_focus_p2.csv'\n",
    "np.savetxt(save_name, matrix, delimiter = ',')\n"
   ]
  },
  {
   "cell_type": "code",
   "execution_count": null,
   "metadata": {},
   "outputs": [],
   "source": []
  }
 ],
 "metadata": {
  "kernelspec": {
   "display_name": "webapss",
   "language": "python",
   "name": "python3"
  },
  "language_info": {
   "codemirror_mode": {
    "name": "ipython",
    "version": 3
   },
   "file_extension": ".py",
   "mimetype": "text/x-python",
   "name": "python",
   "nbconvert_exporter": "python",
   "pygments_lexer": "ipython3",
   "version": "3.9.1"
  },
  "orig_nbformat": 4
 },
 "nbformat": 4,
 "nbformat_minor": 2
}
