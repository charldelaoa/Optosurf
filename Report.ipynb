{
 "cells": [
  {
   "cell_type": "raw",
   "id": "9296459c",
   "metadata": {},
   "source": [
    "---\n",
    "title: \"Optosurf simulation\"\n",
    "format: \n",
    "  html:\n",
    "    code-fold: true\n",
    "    code-tools: true\n",
    "    theme: slate\n",
    "    toc: true\n",
    "    toc-location: left\n",
    "    number-sections: true\n",
    "    fontcolor: \"#E3F4FF\"\n",
    "jupyter: python3\n",
    "---"
   ]
  },
  {
   "cell_type": "code",
   "execution_count": null,
   "id": "7b3e09a3",
   "metadata": {
    "lines_to_next_cell": 0
   },
   "outputs": [],
   "source": [
    "#| echo: false\n",
    "import bokeh\n",
    "from bokeh.plotting import figure, curdoc, show\n",
    "from bokeh.models import Rect, LinearColorMapper, SingleIntervalTicker, LinearAxis, Grid\n",
    "from bokeh.layouts import gridplot\n",
    "from bokeh.io import output_notebook\n",
    "import numpy as np\n",
    "import altair as alt\n",
    "import pandas as pd\n",
    "import numpy as np\n",
    "import warnings\n",
    "warnings.filterwarnings('ignore')\n",
    "output_notebook()\n",
    "\n",
    "def plot_format(plot, xlabel, ylabel, location, size, titlesize, labelsize):\n",
    "    # x axis format\n",
    "    plot.xaxis.axis_label = xlabel\n",
    "    plot.xaxis.axis_label_text_font_style = 'bold'\n",
    "    plot.xaxis.major_label_text_font_style = \"bold\"\n",
    "    plot.xaxis.axis_label_text_font_size = size\n",
    "    plot.xaxis.major_label_text_font_size = size\n",
    "\n",
    "    # y axis format\n",
    "    plot.yaxis.axis_label = ylabel\n",
    "    plot.yaxis.axis_label_text_font_style = 'bold'\n",
    "    plot.yaxis.major_label_text_font_style = \"bold\"\n",
    "    plot.yaxis.axis_label_text_font_size = size\n",
    "    plot.yaxis.major_label_text_font_size = size\n",
    "\n",
    "    # Legend format\n",
    "    plot.legend.location = location\n",
    "    plot.legend.click_policy = \"hide\"\n",
    "    plot.legend.label_text_font_size = labelsize\n",
    "    plot.legend.label_text_font_style = 'bold'\n",
    "    plot.legend.border_line_width = 3\n",
    "    plot.legend.border_line_color = \"navy\"\n",
    "    plot.legend.border_line_alpha = 0.5\n",
    "\n",
    "    # Title format\n",
    "    plot.title.text_font_size = titlesize\n",
    "\n",
    "    plot.background_fill_color = \"#282B30\"\n",
    "    plot.border_fill_color = \"#282B30\"\n",
    "\n",
    "    plot.xgrid.grid_line_color = '#606773'\n",
    "    plot.ygrid.grid_line_color = '#606773'\n",
    "\n",
    "    plot.yaxis.major_label_text_color = \"#E3F4FF\"\n",
    "    plot.xaxis.major_label_text_color = \"#E3F4FF\"\n",
    "    plot.yaxis.axis_label_text_color = \"#E3F4FF\"\n",
    "    plot.xaxis.axis_label_text_color = \"#E3F4FF\"\n",
    "    plot.title.text_color = \"#A6DDFF\"\n",
    "    plot.title.text_font_style = \"bold\"\n",
    "    plot.title.text_font_size = \"15pt\"\n",
    "    return plot"
   ]
  },
  {
   "cell_type": "code",
   "execution_count": null,
   "id": "67110dea",
   "metadata": {
    "lines_to_next_cell": 2
   },
   "outputs": [],
   "source": []
  },
  {
   "cell_type": "markdown",
   "id": "d693561d",
   "metadata": {},
   "source": [
    "# <span style=\"color:#A6DDFF\">Optical field definition and window integratio bb</span>"
   ]
  },
  {
   "cell_type": "markdown",
   "id": "cceebde1",
   "metadata": {},
   "source": [
    "## Optical field definition\n",
    "The optical field detected by the Optosurf is simulated according to the equation $y = e^{-((x-\\mu)/\\sigma)^n}. \n",
    "The $\\mu$ parameter relates to the incoming angle of the sample's reflected light, this is equivalent to a lateral shift of the optical field. The $\\sigma$ \n",
    "parameter relates roughness of the sample and determines the widht of the optical field."
   ]
  },
  {
   "cell_type": "markdown",
   "id": "341bc0fe",
   "metadata": {},
   "source": [
    "## Optosurf 32 pixel line detector \n",
    "The Optosurf head has a 32 pixel linear detector. In order to simulate this, the equation of the optical field is defined. Then, a window integration over 32 windows is performed over the optical field (@fig-1 a). The outcome of the integration will be 32 sdampling points over a range of 30 degrees, from -15 to 15 (@fig-1 b). Finally, a histogram is calculated from these points (@fig-1 c).\n",
    "\n"
   ]
  },
  {
   "cell_type": "markdown",
   "id": "4b9eee54",
   "metadata": {},
   "source": [
    "\n",
    "::: {#fig-1}\n",
    "\n",
    "![](images/Fig2.png)\n",
    "\n",
    "a. Optical field definition. b. Window integration. c. Histogram\n",
    ":::\n"
   ]
  },
  {
   "cell_type": "markdown",
   "id": "cde00527",
   "metadata": {},
   "source": [
    "## Optical field and window integration Python simulation\n",
    "The previous process was coded in python using three functions:\n",
    "\n",
    "-<span style=\"color:#EEDA89\">plot-equation</span>: This function creates the optical field according to the **input parameters** $\\mu$, $\\sigma$, $n$, number of points and degrees range. The **output** returns two arrays: x and y, a linear array for the x scale and the corresponding calcuted y values\n",
    "\n",
    "-<span style=\"color:#EEDA89\">window-integration</span>: This function performs the window integration simulating the linear detector. The **input parameters** are number of windows, the window size in points and the number of gap points between each pixel. The **output** are the new integration axis and the 32 sampling points.\n",
    "\n",
    "-<span style=\"color:#EEDA89\">histogram_reconstruction</span>: The final function takes the new axis and the sampled points and reconstructs the histogram. \n",
    "\n",
    "The code is now shown:"
   ]
  },
  {
   "cell_type": "markdown",
   "id": "db842a2d",
   "metadata": {},
   "source": [
    "### Functions definition"
   ]
  },
  {
   "cell_type": "code",
   "execution_count": null,
   "id": "e9c9c419",
   "metadata": {},
   "outputs": [],
   "source": [
    "def plot_equation(mu, sigma, n, number_points, degrees, plot, title=\"Super-Gaussian\", width = 700, height = 550):\n",
    "    \"\"\"\n",
    "    Plot the optical field equation using Bokeh\n",
    "\n",
    "    Parameters\n",
    "    ----------\n",
    "    mu (float): Mean value for the equation\n",
    "    sigma (float): Standard deviation value for the equation\n",
    "    n (float): Order value for the equation\n",
    "    number_points (int): number of points to calculate the function\n",
    "    \n",
    "    Returns\n",
    "    -------\n",
    "    plots (bokeh plot): Plot of the Super-Gaussian equation\n",
    "    x(np): linspace for the gaussian plot\n",
    "    y(np): gaussian values\n",
    "    \"\"\"\n",
    "    # 1. Define linear degrees vector and calculate Super-Gaussian\n",
    "    ticker = SingleIntervalTicker(interval=2.5, num_minor_ticks=10)\n",
    "    xaxis = LinearAxis(ticker = ticker)\n",
    "    x = np.linspace(degrees[0], degrees[1], number_points)\n",
    "    y = np.exp(-abs(((x-mu)/sigma))**n)\n",
    "    \n",
    "    # 2. Plot \n",
    "    if plot:\n",
    "        TOOLTIPS = [(\"index\", \"$index\"),(\"(x,y)\", \"($x, $y)\")]\n",
    "        p = figure(title=title, x_axis_label='x', y_axis_label='y', tooltips = TOOLTIPS,\n",
    "            width = width, height = height)\n",
    "        p.line(x, y, line_width=4, alpha = 0.5, line_color = \"#C5E064\")\n",
    "        p.add_layout(Grid(dimension=0, ticker=xaxis.ticker))\n",
    "        p = plot_format(p, \"Degrees\", \"Intensity\", \"bottom_left\", \"10pt\", \"10pt\", \"10pt\")\n",
    "        return p, x, y\n",
    "    else:\n",
    "        return x, y\n",
    "\n",
    "\n",
    "def window_integration(number_windows, window_size, gap, x, y, p=None):\n",
    "    \"\"\"\n",
    "    Performs a window integration\n",
    "\n",
    "    Parameters\n",
    "    ----------\n",
    "    number_windows (int): Number of integration windows\n",
    "    window_size (int): Number of data points in the window\n",
    "    x(np): linspace for the gaussian plot\n",
    "    y(np): gaussian values\n",
    "    Returns\n",
    "    -------\n",
    "    p (bokeh plot): Plot of the integration\n",
    "    integration_axis (np): window integration axis\n",
    "    integration_points (np): Integrated points\n",
    "    \"\"\"\n",
    "    integration_points = []\n",
    "    integration_axis = []\n",
    "    color_multiplier = len(bokeh.palettes.Viridis256)//number_windows\n",
    "    count = 0\n",
    "    \n",
    "    for i in range(number_windows):\n",
    "    # 1. Get data in every window and integrate\n",
    "        a = i*window_size\n",
    "        b = i*window_size + window_size\n",
    "        \n",
    "        x_temp = x[a:b-gap:1]\n",
    "        y_temp = y[a:b-gap:1]\n",
    "        integration = np.trapz(y_temp, x_temp, dx = x[1] - x[0])\n",
    "        integration_points.append(integration)\n",
    "\n",
    "        axis = x_temp[len(x_temp)//2]\n",
    "        integration_axis.append(axis)\n",
    "\n",
    "        # 2. Draw a rectangle of the integration window\n",
    "        if p is not None:\n",
    "            left_edge = x_temp[0]\n",
    "            right_edge = x_temp[-1]\n",
    "            p.rect(x=(left_edge + right_edge)/2, y=0.18, width=right_edge-left_edge, height=0.3, fill_alpha=0.001, fill_color='#C5E0B4', color='#C5E0B4')\n",
    "            p.rect(x=(right_edge + x[b-1])/2, y=0.18, width=x[b-1]-right_edge, height=0.3, fill_alpha=0.005, fill_color='#F16C08', color = '#F16C08')\n",
    "            p.circle(x_temp[::15], y_temp[::15], size = 4, alpha = 1)\n",
    "            count += 1\n",
    "    if p is not None:\n",
    "        p.circle(integration_axis, integration_points, size = 7, color = '#FAA0A0')\n",
    "        p.line(integration_axis, integration_points, line_width = 4, color = '#FAA0A0', alpha = 0.8)\n",
    "    return p, integration_axis, integration_points\n",
    "\n",
    "\n",
    "def histogram_reconstruction(int_points, hist_bool, title=\"Super-Gaussian\", width = 700, height = 550):\n",
    "    \"\"\"\n",
    "    Constructs a histrogram\n",
    "\n",
    "    Parameters\n",
    "    ----------\n",
    "    int_points(np): Points calculated from the window integration\n",
    "    Returns\n",
    "    -------\n",
    "    hist_plot (bokeh plot): Plot of the histogram\n",
    "    std_dev(float): Histogram's standard deviation\n",
    "    \"\"\"\n",
    "    \n",
    "    # a. Histogram reconstruction\n",
    "    normalized_y = np.multiply(int_points, 10000)\n",
    "    hist_2d = np.array([])\n",
    "    for i, int_point in enumerate(normalized_y):\n",
    "        round_int_point = round(float(int_point))\n",
    "        hist_2d = np.concatenate((hist_2d, np.array([float(i)]*round_int_point)))\n",
    "    \n",
    "    # b. Calculate standard deviation\n",
    "    stddev = np.std(hist_2d)\n",
    "    \n",
    "    # c. Plot histogram\n",
    "    if hist_bool:\n",
    "        title = f\"Std_dev: {stddev:.5f}; \" + title\n",
    "        hist_plot = figure(title = title, plot_width=width, plot_height=height, x_axis_label='x', y_axis_label='count()')\n",
    "        hist, edges = np.histogram(hist_2d, bins=20)\n",
    "        hist_plot.quad(top=hist, bottom=0, left=edges[:-1], right=edges[1:], fill_color='#2D908C', line_color='black', alpha=0.7)\n",
    "        hist_plot = plot_format(hist_plot, \"x\", \"Count\", \"bottom_left\", \"10pt\", \"10pt\", \"10pt\")\n",
    "        return hist_plot, np.std(stddev)\n",
    "\n",
    "    else:\n",
    "        return stddev"
   ]
  },
  {
   "cell_type": "markdown",
   "id": "991cbbdb",
   "metadata": {},
   "source": [
    "### Optical field parameter sweep"
   ]
  },
  {
   "cell_type": "markdown",
   "id": "74deb029",
   "metadata": {},
   "source": [
    "Once the functions have been defined a parameter sweep is made. This includes sweeping the $\\mu$ and $\\sigma$ parameters of the optical field equation. In practice,\n",
    "sweeping $\\mu$ parameter is equivalent to changing the angle of the incoming light which produce a linear shift in the optical field as illustrated in @fig-2 a.\n",
    "\n",
    " The $\\sigma$ parameter broaded the width of the Gaussian field and is equivalent to samples with different reflectivities as shown in @fig-2 b.\n",
    "\n"
   ]
  },
  {
   "cell_type": "markdown",
   "id": "e85f25f6",
   "metadata": {},
   "source": [
    "::: {#fig-2}\n",
    "\n",
    "![](images/Fig2.png)\n",
    "\n",
    "a. Sweep in mu parameter. b. Sweep in sigma parameter.\n",
    ":::"
   ]
  },
  {
   "cell_type": "markdown",
   "id": "ce1a3447",
   "metadata": {},
   "source": [
    "### Sweep parameter simulation\n",
    "The sweep parameter was simulated using the previously defined functions. The sweep parameters are:\n",
    "\n",
    "-<span style=\"color:#EEDA89\">$\\mu$</span>: from -4 to -4 degrees\n",
    "\n",
    "-<span style=\"color:#EEDA89\">$\\sigma$</span>: from 1 to 2.5\n",
    "\n",
    "For each sweep combination the histogram is reconstructed and its standard deviation is stored as a matrix. The code and output plot (notice plot is interactive) are now shown:"
   ]
  },
  {
   "cell_type": "code",
   "execution_count": null,
   "id": "d9d05a77",
   "metadata": {},
   "outputs": [],
   "source": [
    "#| column: screen\n",
    "# 1. Define input parameters for the optical field\n",
    "mu_np = np.linspace(-4, 4, 3)\n",
    "std_np = np.linspace(1.0, 2.5, 3)\n",
    "X, Y = np.meshgrid(mu_np, std_np)\n",
    "n = 3.5\n",
    "number_points = 10000\n",
    "degrees = [-15, 15]\n",
    "number_windows = 32\n",
    "window_size = number_points//number_windows\n",
    "gap = 100\n",
    "\n",
    "# 2. Define empty plot lists\n",
    "plots_gaussian = []\n",
    "plots_histogram = []\n",
    "\n",
    "for i in range(len(mu_np)):\n",
    "    for j in range(len(std_np)):\n",
    "        # a. Calculate window integration\n",
    "        title = f\"mu: {mu_np[i]:.3f}, sigma: {std_np[j]:.3f}\"\n",
    "        plot, x, y = plot_equation(mu_np[i], std_np[j], n, number_points, degrees, True, title, 320, 200)\n",
    "        plot.title.text_font_size = \"10pt\"\n",
    "        plot, int_axis, int_points = window_integration(number_windows, window_size, gap, x, y, plot)\n",
    "        plots_gaussian.append(plot)\n",
    "\n",
    "        # b. Calculate histogram\n",
    "        hist_title = f\"mu: {mu_np[i]:.3f}, sigma: {std_np[j]:.3f}\"\n",
    "        hist_plot, std_dev = histogram_reconstruction(int_points, True, hist_title, 320, 200)\n",
    "        hist_plot.title.text_font_size = \"8pt\"\n",
    "        plots_gaussian.append(hist_plot)\n",
    "\n",
    "grid_gaussian = gridplot(children = plots_gaussian, ncols = 6, merge_tools=False)\n",
    "show(grid_gaussian)\n"
   ]
  },
  {
   "cell_type": "markdown",
   "id": "e617f99d",
   "metadata": {},
   "source": [
    "Notice that the simulation confirmed the expected behaviour. The sweep in $\\mu$ is equivalent to a linear shift a long the x-axis, while the sweep in $\\sigma$ broaded the optical field, hence obtaining more sampling points inside the curve."
   ]
  },
  {
   "cell_type": "markdown",
   "id": "1afe6a21",
   "metadata": {},
   "source": [
    "## Standard deviation matrix\n",
    "Finally, a new sweep is performed with the parameters: \n",
    "\n",
    "-<span style=\"color:#EEDA89\">$\\mu$</span>: from -5 to -5 degrees\n",
    "\n",
    "-<span style=\"color:#EEDA89\">$\\sigma$</span>: from 1 to 2.5\n"
   ]
  },
  {
   "cell_type": "code",
   "execution_count": null,
   "id": "fda13b51",
   "metadata": {},
   "outputs": [],
   "source": [
    "#| column: column-page\n",
    "number_points = 5000\n",
    "number_windows = 32\n",
    "window_size = number_points//number_windows\n",
    "gap = 100\n",
    "n = 3.5\n",
    "degrees = [-15, 15]\n",
    "           \n",
    "mu_range = [-5, 5]\n",
    "axis_range = [mu_range[0], mu_range[1], 0.5]\n",
    "axis_range = np.arange(-5, 5.5, 0.5)\n",
    "mu_step = 0.10\n",
    "mu_points = (mu_range[1] - mu_range[0])//mu_step\n",
    "\n",
    "std_range = [1.5, 1.6]\n",
    "std_step = 0.1 \n",
    "std_points = (std_range[1] - std_range[0])/std_step\n",
    "\n",
    "\n",
    "mu_np = np.linspace(mu_range[0], mu_range[1], int(mu_points))\n",
    "std_np = np.linspace(std_range[0], std_range[1], int(std_points))\n",
    "X, Y = np.meshgrid(mu_np, std_np)\n",
    "std_grid = np.empty_like(X)\n",
    "\n",
    "# Iterates mu and standard deviation\n",
    "for i in range(len(mu_np)):\n",
    "    for j in range(len(std_np)):\n",
    "        # Generate x and y Gaussian data points \n",
    "        title = f\"mu: {mu_np[i]:.3f}, std: {std_np[j]:.3f}\"\n",
    "        # print(title)\n",
    "        x, y = plot_equation(mu_np[i], std_np[j], n, number_points, degrees, False)\n",
    "        p, int_axis, int_points = window_integration(number_windows, window_size, gap, x, y)\n",
    "        std_grid[j, i] = histogram_reconstruction(int_points, False)\n",
    "        \n",
    "source = pd.DataFrame({'mu': X.ravel(),\n",
    "                        'std': Y.ravel(),\n",
    "                        'value': std_grid.ravel()})\n",
    "\n",
    "intensity_plot = alt.Chart(source).mark_rect().encode(\n",
    "    alt.X('mu:O', axis=alt.Axis(values=axis_range, format=\".1f\")),\n",
    "    y='std:O',\n",
    "    color='value:Q',\n",
    "    tooltip='value').interactive()\n",
    "intensity_plot = intensity_plot.properties(width = 600, height = 200, title = 'Standard deviation variation')\n",
    "intensity_plot"
   ]
  },
  {
   "cell_type": "markdown",
   "id": "9df33396",
   "metadata": {},
   "source": [
    "Standard deviation: 1.0"
   ]
  },
  {
   "cell_type": "code",
   "execution_count": null,
   "id": "4366102b",
   "metadata": {},
   "outputs": [],
   "source": [
    "intensity_plot"
   ]
  },
  {
   "cell_type": "markdown",
   "id": "d98dcc5e",
   "metadata": {},
   "source": [
    "Standard deviation: 1.5"
   ]
  },
  {
   "cell_type": "code",
   "execution_count": null,
   "id": "d54825e9",
   "metadata": {},
   "outputs": [],
   "source": [
    "intensity_plot"
   ]
  },
  {
   "cell_type": "code",
   "execution_count": null,
   "id": "2276045c",
   "metadata": {},
   "outputs": [],
   "source": [
    "# https://towardsdatascience.com/version-control-with-jupyter-notebook-b9630bc5996e"
   ]
  },
  {
   "cell_type": "code",
   "execution_count": 7,
   "id": "141dce81",
   "metadata": {},
   "outputs": [],
   "source": [
    "import altair"
   ]
  },
  {
   "cell_type": "code",
   "execution_count": 8,
   "id": "988f7516",
   "metadata": {},
   "outputs": [
    {
     "name": "stdout",
     "output_type": "stream",
     "text": [
      "4.2.0\n"
     ]
    }
   ],
   "source": [
    "print (altair.__version__)"
   ]
  }
 ],
 "metadata": {
  "kernelspec": {
   "display_name": "WebApps",
   "language": "python",
   "name": "python3"
  },
  "language_info": {
   "codemirror_mode": {
    "name": "ipython",
    "version": 3
   },
   "file_extension": ".py",
   "mimetype": "text/x-python",
   "name": "python",
   "nbconvert_exporter": "python",
   "pygments_lexer": "ipython3",
   "version": "3.9.7"
  },
  "vscode": {
   "interpreter": {
    "hash": "7b4aa6cd15b41e0a0e7b23be56373d970d149bd37bb73235b24c980a49836267"
   }
  }
 },
 "nbformat": 4,
 "nbformat_minor": 5
}
